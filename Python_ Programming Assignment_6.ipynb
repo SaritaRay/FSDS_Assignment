{
 "cells": [
  {
   "cell_type": "code",
   "execution_count": 19,
   "id": "00778c05",
   "metadata": {},
   "outputs": [
    {
     "name": "stdout",
     "output_type": "stream",
     "text": [
      "Enter any number: 20\n",
      "Fibonacci sequence:\n",
      "0\n",
      "1\n",
      "1\n",
      "2\n",
      "3\n",
      "5\n",
      "8\n",
      "13\n",
      "21\n",
      "34\n",
      "55\n",
      "89\n",
      "144\n",
      "233\n",
      "377\n",
      "610\n",
      "987\n",
      "1597\n",
      "2584\n",
      "4181\n"
     ]
    }
   ],
   "source": [
    "# Question 1. Write a Python Program to Display Fibonacci Sequence Using Recursion?\n",
    "\n",
    "# Solution : Here is the solution code for the asked question-\n",
    "\n",
    "# CODE:\n",
    "\n",
    "def recur_fibo(n):\n",
    "    if n <= 1:\n",
    "        return n\n",
    "    else:\n",
    "        return(recur_fibo(n-1) + recur_fibo(n-2))\n",
    "\n",
    "nterms = int(input(\"Enter any number: \"))\n",
    "\n",
    "if nterms <= 0:\n",
    "    print(\"Plese enter a positive integer\")\n",
    "\n",
    "else:\n",
    "    print(\"Fibonacci sequence:\")\n",
    "    for i in range(nterms):\n",
    "        print(recur_fibo(i))\n"
   ]
  },
  {
   "cell_type": "code",
   "execution_count": 29,
   "id": "7e59de44",
   "metadata": {},
   "outputs": [
    {
     "name": "stdout",
     "output_type": "stream",
     "text": [
      "Enter a number: 6\n",
      "The factorial of 6 is 720\n"
     ]
    }
   ],
   "source": [
    "# Question 2. Write a Python Program to Find Factorial of Number Using Recursion?\n",
    "\n",
    "# Solution : Here is the solution code for the asked question-\n",
    "\n",
    "# CODE:\n",
    "\n",
    "def recursive_factorial(n):\n",
    "    if n == 1:\n",
    "        return n\n",
    "    else:\n",
    "        return n*recursive_factorial(n-1)\n",
    "\n",
    "number = int(input(\"Enter a number: \"))\n",
    "\n",
    "if number < 0:\n",
    "    print(\"Factorial does not exist for negative numbers\")\n",
    "elif number == 0:\n",
    "    print(\"The factorial of 0 is 1\")\n",
    "else:\n",
    "    print(\"The factorial of\", number, \"is\", recursive_factorial(number))\n"
   ]
  },
  {
   "cell_type": "code",
   "execution_count": 21,
   "id": "5375faf6",
   "metadata": {},
   "outputs": [
    {
     "name": "stdout",
     "output_type": "stream",
     "text": [
      "Enter your height (m): 1.58\n",
      "Enter your weight (kg): 86\n",
      "Your BMI is: 34.45\n"
     ]
    }
   ],
   "source": [
    "# Question 3. Write a Python Program to calculate your Body Mass Index?\n",
    "\n",
    "# Solution : Here is the solution code for the asked question-\n",
    "\n",
    "# CODE:\n",
    "\n",
    "height = float(input(\"Enter your height (m): \"))\n",
    "weight = float(input(\"Enter your weight (kg): \"))\n",
    "\n",
    "bmi = weight / (height ** 2)\n",
    "\n",
    "print(\"Your BMI is:\", round(bmi, 2))\n"
   ]
  },
  {
   "cell_type": "code",
   "execution_count": 22,
   "id": "d0a7b767",
   "metadata": {
    "scrolled": true
   },
   "outputs": [
    {
     "name": "stdout",
     "output_type": "stream",
     "text": [
      "Enter a number: 10\n",
      "The natural logarithm of 10.0 is 2.302585092994046\n"
     ]
    }
   ],
   "source": [
    "# Question 4. Write a Python Program to calculate the natural logarithm of any number?\n",
    "\n",
    "# Solution : Here is the solution code for the asked question-\n",
    "\n",
    "# CODE:\n",
    "\n",
    "import math\n",
    "\n",
    "number = float(input(\"Enter a number: \"))\n",
    "\n",
    "natural_log = math.log(number)\n",
    "\n",
    "print(\"The natural logarithm of\", number, \"is\", natural_log)\n"
   ]
  },
  {
   "cell_type": "code",
   "execution_count": 24,
   "id": "edd55223",
   "metadata": {},
   "outputs": [
    {
     "name": "stdout",
     "output_type": "stream",
     "text": [
      "Enter a number: 3\n",
      "The cube sum of the first 3 natural numbers is 36\n"
     ]
    }
   ],
   "source": [
    "# Question 5. Write a Python Program for cube sum of first n natural numbers?\n",
    "\n",
    "# Solution : Here is the solution code for the asked question-\n",
    "\n",
    "# CODE:\n",
    "\n",
    "n = int(input(\"Enter a number: \"))\n",
    "\n",
    "sum = 0\n",
    "\n",
    "for i in range(1, n+1):\n",
    "    sum += i**3\n",
    "\n",
    "print(\"The cube sum of the first\", n, \"natural numbers is\", sum)\n"
   ]
  }
 ],
 "metadata": {
  "kernelspec": {
   "display_name": "Python 3 (ipykernel)",
   "language": "python",
   "name": "python3"
  },
  "language_info": {
   "codemirror_mode": {
    "name": "ipython",
    "version": 3
   },
   "file_extension": ".py",
   "mimetype": "text/x-python",
   "name": "python",
   "nbconvert_exporter": "python",
   "pygments_lexer": "ipython3",
   "version": "3.9.13"
  }
 },
 "nbformat": 4,
 "nbformat_minor": 5
}
