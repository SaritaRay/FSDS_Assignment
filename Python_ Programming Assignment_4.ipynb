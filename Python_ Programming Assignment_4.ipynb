{
 "cells": [
  {
   "cell_type": "code",
   "execution_count": 6,
   "id": "581dedb3",
   "metadata": {},
   "outputs": [
    {
     "name": "stdout",
     "output_type": "stream",
     "text": [
      "Enter a number: 5\n",
      "Factorial of the given number is: 120\n"
     ]
    }
   ],
   "source": [
    "# Question 1. Write a Python Program to Find the Factorial of a Number?\n",
    "\n",
    "# Solution : Here is the solution code for the asked question-\n",
    "\n",
    "# CODE:\n",
    "\n",
    "n = int(input(\"Enter a number: \"))\n",
    "factorial = 1\n",
    "if n >= 1:\n",
    "    for i in range(1, n+1):\n",
    "        factorial = factorial * i\n",
    "print(\"Factorial of the given number is:\", factorial)\n"
   ]
  },
  {
   "cell_type": "code",
   "execution_count": 13,
   "id": "45da9ac6",
   "metadata": {},
   "outputs": [
    {
     "name": "stdout",
     "output_type": "stream",
     "text": [
      "Show the multiplication table of? 10\n",
      "10 x 1 = 10\n",
      "10 x 2 = 20\n",
      "10 x 3 = 30\n",
      "10 x 4 = 40\n",
      "10 x 5 = 50\n",
      "10 x 6 = 60\n",
      "10 x 7 = 70\n",
      "10 x 8 = 80\n",
      "10 x 9 = 90\n",
      "10 x 10 = 100\n"
     ]
    }
   ],
   "source": [
    "# Question 2. Write a Python Program to Display the multiplication Table?\n",
    "\n",
    "# Solution : Here is the solution code for the asked question-\n",
    "\n",
    "# CODE:\n",
    "\n",
    "num = int(input(\"Show the multiplication table of? \"))\n",
    "for i in range(1, 11):\n",
    "    print(num, 'x', i, '=', num*i)\n"
   ]
  },
  {
   "cell_type": "code",
   "execution_count": 17,
   "id": "a49a6536",
   "metadata": {},
   "outputs": [
    {
     "name": "stdout",
     "output_type": "stream",
     "text": [
      "Enter the number of terms in the sequence: 9\n",
      "0\n",
      "1\n",
      "1\n",
      "2\n",
      "3\n",
      "5\n",
      "8\n",
      "13\n",
      "21\n"
     ]
    }
   ],
   "source": [
    "# Question 3. Write a Python Program to Print the Fibonacci sequence?\n",
    "\n",
    "# Solution : Here is the solution code for the asked question-\n",
    "\n",
    "# CODE:\n",
    "\n",
    "def fibonacci_sequence(n):\n",
    "    a = 0\n",
    "    b = 1\n",
    "    if n == 1:\n",
    "        print(a)\n",
    "    else:\n",
    "        print(a)\n",
    "        print(b)\n",
    "        for i in range(2, n):\n",
    "            c = a + b\n",
    "            a = b\n",
    "            b = c\n",
    "            print(c)\n",
    "\n",
    "n = int(input(\"Enter the number of terms in the sequence: \"))\n",
    "fibonacci_sequence(n)\n"
   ]
  },
  {
   "cell_type": "code",
   "execution_count": 28,
   "id": "23faf9fe",
   "metadata": {},
   "outputs": [
    {
     "name": "stdout",
     "output_type": "stream",
     "text": [
      "Enter a number: 153\n",
      "153 is an Armstrong number\n"
     ]
    }
   ],
   "source": [
    "# Question 4. Write a Python Program to Check Armstrong Number?\n",
    "\n",
    "# Solution : Here is the solution code for the asked question-\n",
    "\n",
    "# CODE:\n",
    "\n",
    "def is_armstrong_number(num):\n",
    "    sum = 0\n",
    "    temp = num\n",
    "    while temp > 0:\n",
    "        digit = temp % 10\n",
    "        sum += digit ** 3\n",
    "        temp //= 10\n",
    "\n",
    "    if num == sum:\n",
    "        print(num, \"is an Armstrong number\")\n",
    "    else:\n",
    "        print(num, \"is not an Armstrong number\")\n",
    "\n",
    "num = int(input(\"Enter a number: \"))\n",
    "is_armstrong_number(num)\n"
   ]
  },
  {
   "cell_type": "code",
   "execution_count": 39,
   "id": "6a24389d",
   "metadata": {},
   "outputs": [
    {
     "name": "stdout",
     "output_type": "stream",
     "text": [
      "Enter lower range: 100\n",
      "Enter upper range: 1000\n",
      "153\n",
      "370\n",
      "371\n",
      "407\n"
     ]
    }
   ],
   "source": [
    "# Question 5. Write a Python Program to Find Armstrong Number in an Interval?\n",
    "\n",
    "# Solution : Here is the solution code for the asked question-\n",
    "\n",
    "# CODE:\n",
    "\n",
    "def is_armstrong_number(num):\n",
    "    sum = 0\n",
    "    temp = num\n",
    "    while temp > 0:\n",
    "        digit = temp % 10\n",
    "        sum += digit ** 3\n",
    "        temp //= 10\n",
    "\n",
    "    if num == sum:\n",
    "        return True\n",
    "    else:\n",
    "        return False\n",
    "\n",
    "lower = int(input(\"Enter lower range: \"))\n",
    "upper = int(input(\"Enter upper range: \"))\n",
    "\n",
    "for num in range(lower, upper + 1):\n",
    "    if is_armstrong_number(num):\n",
    "        print(num)\n"
   ]
  },
  {
   "cell_type": "code",
   "execution_count": 43,
   "id": "9511b0d6",
   "metadata": {},
   "outputs": [
    {
     "name": "stdout",
     "output_type": "stream",
     "text": [
      "Enter a number: 20\n",
      "The sum of the natural numbers is: 210\n"
     ]
    }
   ],
   "source": [
    "# Question 6. Write a Python Program to Find the Sum of Natural Numbers?\n",
    "\n",
    "# Solution : Here is the solution code for the asked question-\n",
    "\n",
    "# CODE:\n",
    "\n",
    "num = int(input(\"Enter a number: \"))\n",
    "\n",
    "if num < 0:\n",
    "    print(\"Enter a positive number\")\n",
    "else:\n",
    "    sum = 0\n",
    "    while(num > 0):\n",
    "        sum += num\n",
    "        num -= 1\n",
    "    print(\"The sum of the natural numbers is:\", sum)\n"
   ]
  }
 ],
 "metadata": {
  "kernelspec": {
   "display_name": "Python 3 (ipykernel)",
   "language": "python",
   "name": "python3"
  },
  "language_info": {
   "codemirror_mode": {
    "name": "ipython",
    "version": 3
   },
   "file_extension": ".py",
   "mimetype": "text/x-python",
   "name": "python",
   "nbconvert_exporter": "python",
   "pygments_lexer": "ipython3",
   "version": "3.9.13"
  }
 },
 "nbformat": 4,
 "nbformat_minor": 5
}
