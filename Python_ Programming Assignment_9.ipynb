{
 "cells": [
  {
   "cell_type": "code",
   "execution_count": 14,
   "id": "53827b25",
   "metadata": {},
   "outputs": [
    {
     "name": "stdout",
     "output_type": "stream",
     "text": [
      "Enter a number: 999\n",
      "999 is not a Disarium number\n"
     ]
    }
   ],
   "source": [
    "# Question 1. Write a Python program to check if the given number is a Disarium Number?\n",
    "\n",
    "# Solution: Here is the solution code for the asked question-\n",
    "\n",
    "# CODE:\n",
    "\n",
    "def calculateLength(n):\n",
    "    length = 0\n",
    "    while n != 0:\n",
    "        length = length + 1\n",
    "        n = n // 10\n",
    "    return length\n",
    "\n",
    "def sumOfDigits(num):\n",
    "    rem = sum = 0\n",
    "    len = calculateLength(num)\n",
    "    while num > 0:\n",
    "        rem = num % 10\n",
    "        sum = sum + (rem ** len)\n",
    "        num = num // 10\n",
    "        len = len - 1\n",
    "    return sum\n",
    "\n",
    "num = int(input(\"Enter a number: \"))\n",
    "if num == sumOfDigits(num):\n",
    "    print(num, \"is a Disarium number\")\n",
    "else:\n",
    "    print(num, \"is not a Disarium number\")\n"
   ]
  },
  {
   "cell_type": "code",
   "execution_count": 26,
   "id": "45f66dbc",
   "metadata": {},
   "outputs": [
    {
     "name": "stdout",
     "output_type": "stream",
     "text": [
      "Disarium numbers between 1 and 100 are:\n",
      "1\n",
      "2\n",
      "3\n",
      "4\n",
      "5\n",
      "6\n",
      "7\n",
      "8\n",
      "9\n",
      "89\n"
     ]
    }
   ],
   "source": [
    "# Question 2. Write a Python program to print all disarium numbers between 1 to 100?\n",
    "\n",
    "# Solution: Here is the solution code for the asked question-\n",
    "\n",
    "# CODE:\n",
    "\n",
    "def calculateLength(n):\n",
    "    length = 0\n",
    "    while n != 0:\n",
    "        length = length + 1\n",
    "        n = n // 10\n",
    "    return length\n",
    "\n",
    "def sumOfDigits(num):\n",
    "    rem = sum = 0\n",
    "    len = calculateLength(num)\n",
    "    while num > 0:\n",
    "        rem = num % 10\n",
    "        sum = sum + (rem ** len)\n",
    "        num = num // 10\n",
    "        len = len - 1\n",
    "    return sum\n",
    "\n",
    "print(\"Disarium numbers between 1 and 100 are:\")\n",
    "for i in range(1, 101):\n",
    "    if i == sumOfDigits(i):\n",
    "        print(i)\n"
   ]
  },
  {
   "cell_type": "code",
   "execution_count": 34,
   "id": "f4f28d9d",
   "metadata": {},
   "outputs": [
    {
     "name": "stdout",
     "output_type": "stream",
     "text": [
      "Enter a number: 13\n",
      "13 is a Happy Number\n"
     ]
    }
   ],
   "source": [
    "# Question 3. Write a Python program to check if the given number is Happy Number?\n",
    "\n",
    "# Solution: Here is the solution code for the asked question-\n",
    "\n",
    "# CODE:\n",
    "\n",
    "def isHappyNumber(num):\n",
    "    rem = sum = 0\n",
    "    while(num > 0):\n",
    "        rem = num%10\n",
    "        sum = sum + (rem*rem)\n",
    "        num = num//10\n",
    "    return sum\n",
    "\n",
    "num = int(input(\"Enter a number: \"))\n",
    "result = num\n",
    "while(result != 1 and result != 4):\n",
    "    result = isHappyNumber(result)\n",
    "\n",
    "if(result == 1):\n",
    "    print(num, \"is a Happy Number\")\n",
    "else:\n",
    "    print(num, \"is not a Happy Number\")\n"
   ]
  },
  {
   "cell_type": "code",
   "execution_count": 45,
   "id": "40b8685b",
   "metadata": {},
   "outputs": [
    {
     "name": "stdout",
     "output_type": "stream",
     "text": [
      "Happy numbers between 1 and 100 are:\n",
      "1\n",
      "7\n",
      "10\n",
      "13\n",
      "19\n",
      "23\n",
      "28\n",
      "31\n",
      "32\n",
      "44\n",
      "49\n",
      "68\n",
      "70\n",
      "79\n",
      "82\n",
      "86\n",
      "91\n",
      "94\n",
      "97\n",
      "100\n"
     ]
    }
   ],
   "source": [
    "# Question 4. Write a Python program to print all happy numbers between 1 and 100?\n",
    "\n",
    "# Solution: Here is the solution code for the asked question-\n",
    "\n",
    "# CODE:\n",
    "\n",
    "def isHappyNumber(num):\n",
    "    rem = sum = 0\n",
    "    while(num > 0):\n",
    "        rem = num%10\n",
    "        sum = sum + (rem*rem)\n",
    "        num = num//10\n",
    "    return sum\n",
    "\n",
    "print(\"Happy numbers between 1 and 100 are:\")\n",
    "for i in range(1, 101):\n",
    "    result = i\n",
    "    while(result != 1 and result != 4):\n",
    "        result = isHappyNumber(result)\n",
    "\n",
    "    if(result == 1):\n",
    "        print(i)\n"
   ]
  },
  {
   "cell_type": "code",
   "execution_count": 56,
   "id": "a4437905",
   "metadata": {},
   "outputs": [
    {
     "name": "stdout",
     "output_type": "stream",
     "text": [
      "Enter a number: 126\n",
      "126 is a Harshad Number\n"
     ]
    }
   ],
   "source": [
    "# Question 5. Write a Python program to determine whether the given number is a Harshad Number?\n",
    "\n",
    "# Solution: Here is the solution code for the asked question-\n",
    "\n",
    "# CODE:\n",
    "\n",
    "num = int(input(\"Enter a number: \"))\n",
    "sum = 0\n",
    "temp = num\n",
    "\n",
    "while temp > 0:\n",
    "    digit = temp % 10\n",
    "    sum += digit\n",
    "    temp //= 10\n",
    "\n",
    "if num % sum == 0:\n",
    "    print(num,\"is a Harshad Number\")\n",
    "else:\n",
    "    print(num,\"is not a Harshad Number\")\n"
   ]
  },
  {
   "cell_type": "code",
   "execution_count": 50,
   "id": "4ae005d6",
   "metadata": {},
   "outputs": [
    {
     "name": "stdout",
     "output_type": "stream",
     "text": [
      "Pronic numbers between 1 and 100 are:\n",
      "2\n",
      "6\n",
      "12\n",
      "20\n",
      "30\n",
      "42\n",
      "56\n",
      "72\n",
      "90\n"
     ]
    }
   ],
   "source": [
    "# Question 6. Write a Python program to print all pronic numbers between 1 and 100?\n",
    "\n",
    "# Solution: Here is the solution code for the asked question-\n",
    "\n",
    "# CODE:\n",
    "\n",
    "print(\"Pronic numbers between 1 and 100 are:\")\n",
    "for i in range(1, 101):\n",
    "    for j in range(1, i+1):\n",
    "        if i == j*(j+1):\n",
    "            print(i)\n"
   ]
  }
 ],
 "metadata": {
  "kernelspec": {
   "display_name": "Python 3 (ipykernel)",
   "language": "python",
   "name": "python3"
  },
  "language_info": {
   "codemirror_mode": {
    "name": "ipython",
    "version": 3
   },
   "file_extension": ".py",
   "mimetype": "text/x-python",
   "name": "python",
   "nbconvert_exporter": "python",
   "pygments_lexer": "ipython3",
   "version": "3.9.13"
  }
 },
 "nbformat": 4,
 "nbformat_minor": 5
}
