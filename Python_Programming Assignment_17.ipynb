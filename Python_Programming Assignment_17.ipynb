{
 "cells": [
  {
   "cell_type": "code",
   "execution_count": 6,
   "id": "e6cc3eaa",
   "metadata": {},
   "outputs": [
    {
     "name": "stdout",
     "output_type": "stream",
     "text": [
      "0\n",
      "30\n",
      "18\n"
     ]
    }
   ],
   "source": [
    "# Question Create a function that takes three arguments a, b, c and returns the sum of the numbers that are evenly divided by c from the range a, b inclusive.\n",
    "'''\n",
    "Examples\n",
    "evenly_divisible(1, 10, 20) ➞ 0\n",
    "# No number between 1 and 10 can be evenly divided by 20.\n",
    "\n",
    "evenly_divisible(1, 10, 2) ➞ 30\n",
    "# 2 + 4 + 6 + 8 + 10 = 30\n",
    "\n",
    "evenly_divisible(1, 10, 3) ➞ 18\n",
    "# 3 + 6 + 9 = 18\n",
    "\n",
    "'''\n",
    "\n",
    "\n",
    "# Solution: Here is the solution code for the asked question-\n",
    "\n",
    "# CODE:\n",
    "\n",
    "def evenly_divisible(a, b, c):\n",
    "    return sum([i for i in range(a, b + 1) if i % c == 0])\n",
    "\n",
    "print(evenly_divisible(1, 10, 20))\n",
    "print(evenly_divisible(1, 10, 2))\n",
    "print(evenly_divisible(1, 10, 3))\n"
   ]
  },
  {
   "cell_type": "code",
   "execution_count": 10,
   "id": "cfcab226",
   "metadata": {},
   "outputs": [
    {
     "name": "stdout",
     "output_type": "stream",
     "text": [
      "True\n",
      "False\n",
      "True\n"
     ]
    }
   ],
   "source": [
    "# Question 2. Create a function that returns True if a given inequality expression is correct and False otherwise.\n",
    "'''\n",
    "Examples\n",
    "correct_signs(\"3 < 7 < 11\") ➞ True\n",
    "correct_signs(\"13 > 44 > 33 > 1\") ➞ False\n",
    "correct_signs(\"1 < 2 < 6 < 9 > 3\") ➞ True\n",
    "\n",
    "'''\n",
    "\n",
    "\n",
    "# Solution: Here is the solution code for the asked question-\n",
    "\n",
    "# CODE:\n",
    "\n",
    "def correct_signs(expr):\n",
    "    return eval(expr)\n",
    "\n",
    "print(correct_signs(\"3 < 7 < 11\"))\n",
    "print(correct_signs(\"13 > 44 > 33 > 1\"))\n",
    "print(correct_signs(\"1 < 2 < 6 < 9 > 3\"))\n"
   ]
  },
  {
   "cell_type": "code",
   "execution_count": 16,
   "id": "703f7118",
   "metadata": {},
   "outputs": [
    {
     "name": "stdout",
     "output_type": "stream",
     "text": [
      "th# ##rdv#rk\n",
      "m?nn?? m??s?\n",
      "sh*k*sp**r*\n"
     ]
    }
   ],
   "source": [
    "# Question 3. Create a function that replaces all the vowels in a string with a specified character.\n",
    "'''\n",
    "Examples\n",
    "replace_vowels(\"the aardvark\", \"#\") ➞ \"th# ##rdv#rk\"\n",
    "replace_vowels(\"minnie mouse\", \"?\") ➞ \"m?nn?? m??s?\"\n",
    "replace_vowels(\"shakespeare\", \"*\") ➞ \"sh*k*sp**r*\"\n",
    "\n",
    "'''\n",
    "\n",
    "\n",
    "# Solution: Here is the solution code for the asked question-\n",
    "\n",
    "# CODE:\n",
    "\n",
    "def replace_vowels(txt, ch):\n",
    "    vowels = \"aeiouAEIOU\"\n",
    "    for vowel in vowels:\n",
    "        txt = txt.replace(vowel, ch)\n",
    "    return txt\n",
    "\n",
    "print(replace_vowels(\"the aardvark\", \"#\")) # \"th# ##rdv#rk\"\n",
    "print(replace_vowels(\"minnie mouse\", \"?\")) # \"m?nn?? m??s?\"\n",
    "print(replace_vowels(\"shakespeare\", \"*\")) # \"sh*k*sp**r*\"\n"
   ]
  },
  {
   "cell_type": "code",
   "execution_count": 19,
   "id": "227c7db0",
   "metadata": {},
   "outputs": [
    {
     "name": "stdout",
     "output_type": "stream",
     "text": [
      "120\n",
      "6\n",
      "1\n",
      "1\n"
     ]
    }
   ],
   "source": [
    "# Question 4. Write a function that calculates the factorial of a number recursively.\n",
    "'''\n",
    "Examples\n",
    "factorial(5) ➞ 120\n",
    "factorial(3) ➞ 6\n",
    "factorial(1) ➞ 1\n",
    "factorial(0) ➞ 1\n",
    "\n",
    "'''\n",
    "\n",
    "\n",
    "# Solution: Here is the solution code for the asked question-\n",
    "\n",
    "# CODE:\n",
    "\n",
    "def factorial(n):\n",
    "    if n == 0:\n",
    "        return 1\n",
    "    else:\n",
    "        return n * factorial(n - 1)\n",
    "\n",
    "print(factorial(5))\n",
    "print(factorial(3))\n",
    "print(factorial(1))\n",
    "print(factorial(0))\n"
   ]
  },
  {
   "cell_type": "code",
   "execution_count": 27,
   "id": "86bd8544",
   "metadata": {},
   "outputs": [
    {
     "name": "stdout",
     "output_type": "stream",
     "text": [
      "5\n",
      "0\n",
      "1\n"
     ]
    }
   ],
   "source": [
    "# Question 5. Hamming distance is the number of characters that differ between two strings.\n",
    "'''\n",
    "To illustrate:\n",
    "String1: \"abcbba\"\n",
    "String2: \"abcbda\"\n",
    "\n",
    "Hamming Distance: 1 - \"b\" vs. \"d\" is the only difference.\n",
    "\n",
    "Create a function that computes the hamming distance between two strings.\n",
    "\n",
    "Examples\n",
    "hamming_distance(\"abcde\", \"bcdef\") ➞ 5\n",
    "hamming_distance(\"abcde\", \"abcde\") ➞ 0\n",
    "hamming_distance(\"strong\", \"strung\") ➞ 1\n",
    "\n",
    "'''\n",
    "\n",
    "# Solution: Here is the solution code for the asked question-\n",
    "\n",
    "# CODE:\n",
    "\n",
    "def hamming_distance(txt1, txt2):\n",
    "    return sum([1 for i in range(len(txt1)) if txt1[i] != txt2[i]])\n",
    "\n",
    "print(hamming_distance(\"abcde\", \"bcdef\")) # 5\n",
    "print(hamming_distance(\"abcde\", \"abcde\")) # 0\n",
    "print(hamming_distance(\"strong\", \"strung\")) # 1\n"
   ]
  }
 ],
 "metadata": {
  "kernelspec": {
   "display_name": "Python 3 (ipykernel)",
   "language": "python",
   "name": "python3"
  },
  "language_info": {
   "codemirror_mode": {
    "name": "ipython",
    "version": 3
   },
   "file_extension": ".py",
   "mimetype": "text/x-python",
   "name": "python",
   "nbconvert_exporter": "python",
   "pygments_lexer": "ipython3",
   "version": "3.9.13"
  }
 },
 "nbformat": 4,
 "nbformat_minor": 5
}
