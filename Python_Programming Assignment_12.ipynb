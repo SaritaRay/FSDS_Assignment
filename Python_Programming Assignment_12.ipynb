{
 "cells": [
  {
   "cell_type": "code",
   "execution_count": 4,
   "id": "4ecfb2c7",
   "metadata": {},
   "outputs": [
    {
     "data": {
      "text/plain": [
       "{1, 2, 3, 4, 5}"
      ]
     },
     "execution_count": 4,
     "metadata": {},
     "output_type": "execute_result"
    }
   ],
   "source": [
    "# Question 1. Write a Python program to Extract Unique values dictionary values?\n",
    "\n",
    "# Solution: Here is the solution code for the asked question-\n",
    "\n",
    "# CODE:\n",
    "\n",
    "def extract_unique_values(dictionary):\n",
    "    # Using set() function to extract unique values\n",
    "    unique_values = set(val for dic in dictionary for val in dictionary[dic])\n",
    "    \n",
    "    return unique_values\n",
    "\n",
    "my_dict = {'a': [1, 2, 3], 'b': [2, 3, 4], 'c': [3, 4, 5]}\n",
    "extract_unique_values(my_dict)\n"
   ]
  },
  {
   "cell_type": "code",
   "execution_count": 8,
   "id": "be722d5e",
   "metadata": {},
   "outputs": [
    {
     "data": {
      "text/plain": [
       "600"
      ]
     },
     "execution_count": 8,
     "metadata": {},
     "output_type": "execute_result"
    }
   ],
   "source": [
    "# Question 2. Write a Python program to find the sum of all items in a dictionary?\n",
    "\n",
    "# Solution: Here is the solution code for the asked question-\n",
    "\n",
    "# CODE:\n",
    "\n",
    "def sum_dict_items(dictionary):\n",
    "    # Using sum() function to find the sum of all items in the dictionary\n",
    "    return sum(dictionary.values())\n",
    "\n",
    "my_dict = {'a': 100, 'b':200, 'c':300}\n",
    "sum_dict_items(my_dict)\n"
   ]
  },
  {
   "cell_type": "code",
   "execution_count": 14,
   "id": "84ff9d51",
   "metadata": {},
   "outputs": [
    {
     "data": {
      "text/plain": [
       "{'a': 100, 'b': 200, 'c': 300, 'd': 400}"
      ]
     },
     "execution_count": 14,
     "metadata": {},
     "output_type": "execute_result"
    }
   ],
   "source": [
    "# Question 3. Write a Python program to Merging two Dictionaries?\n",
    "\n",
    "# Solution: Here is the solution code for the asked question-\n",
    "\n",
    "# CODE:\n",
    "\n",
    "# Using update() method\n",
    "def merge_dicts(dict1, dict2):\n",
    "    dict1.update(dict2)\n",
    "    return dict1\n",
    "\n",
    "# Using | operator\n",
    "def merge_dicts(dict1, dict2):\n",
    "    return dict1 | dict2\n",
    "\n",
    "dict1 = {'a': 100, 'b': 200}\n",
    "dict2 = {'c': 300, 'd': 400}\n",
    "merge_dicts(dict1, dict2)\n"
   ]
  },
  {
   "cell_type": "code",
   "execution_count": 16,
   "id": "8d7a5072",
   "metadata": {},
   "outputs": [
    {
     "data": {
      "text/plain": [
       "{'a': 1, 'b': 2, 'c': 3}"
      ]
     },
     "execution_count": 16,
     "metadata": {},
     "output_type": "execute_result"
    }
   ],
   "source": [
    "# Question 4. Write a Python program to convert key-values list to flat dictionary?\n",
    "\n",
    "# Solution: Here is the solution code for the asked question-\n",
    "\n",
    "# CODE:\n",
    "\n",
    "# Using dict() function\n",
    "def list_to_dict(lst):\n",
    "    return dict(lst)\n",
    "\n",
    "# Example usage\n",
    "lst = [('a', 1), ('b', 2), ('c', 3)]\n",
    "list_to_dict(lst)\n"
   ]
  },
  {
   "cell_type": "code",
   "execution_count": 20,
   "id": "21f43240",
   "metadata": {},
   "outputs": [
    {
     "name": "stdout",
     "output_type": "stream",
     "text": [
      "OrderedDict([('c', 3), ('a', 1), ('b', 2)])\n"
     ]
    }
   ],
   "source": [
    "# Question 5. Write a Python program to insertion at the beginning in OrderedDict?\n",
    "\n",
    "# Solution: Here is the solution code for the asked question-\n",
    "\n",
    "# CODE:\n",
    "\n",
    "from collections import OrderedDict\n",
    "\n",
    "def insert_at_beginning(odict, key, value):\n",
    "    odict.update({key: value})\n",
    "    odict.move_to_end(key, last=False)\n",
    "\n",
    "# Example usage\n",
    "odict = OrderedDict([('a', 1), ('b', 2)])\n",
    "insert_at_beginning(odict, 'c', 3)\n",
    "print(odict)\n"
   ]
  },
  {
   "cell_type": "code",
   "execution_count": 28,
   "id": "66ee2600",
   "metadata": {},
   "outputs": [
    {
     "name": "stdout",
     "output_type": "stream",
     "text": [
      "Output of example_case I, is =  true\n",
      " \n",
      "Output of example_case II, is =  false\n"
     ]
    }
   ],
   "source": [
    "# Question 6. Write a Python program to check order of character in string using OrderedDict()?\n",
    "\n",
    "# Solution: Here is the solution code for the asked question-\n",
    "\n",
    "# CODE:\n",
    "\n",
    "from collections import OrderedDict\n",
    "\n",
    "def check_order(string, pattern):\n",
    "    # Create an OrderedDict of input string\n",
    "    dict = OrderedDict.fromkeys(string)\n",
    "\n",
    "    # Set a pointer at the start of pattern string\n",
    "    ptr = 0\n",
    "\n",
    "    # Traverse generated OrderedDict and match keys with individual character of pattern string\n",
    "    for key,value in dict.items():\n",
    "        if (key == pattern[ptr]):\n",
    "            ptr = ptr + 1\n",
    "\n",
    "        # If all characters of pattern are found in current OrderedDict\n",
    "        if (ptr == (len(pattern))):\n",
    "            return 'true'\n",
    "\n",
    "    # If not all characters of pattern are found in current OrderedDict\n",
    "    return 'false'\n",
    "\n",
    "# Example usage- case I:\n",
    "string = 'engineers rock'\n",
    "pattern = 'roc'\n",
    "print(\"Output of example_case I, is = \", check_order(string, pattern))\n",
    "\n",
    "print(\" \")\n",
    "\n",
    "# Example usage- case II:\n",
    "string = 'engineers rock'\n",
    "pattern = 'sre'\n",
    "print(\"Output of example_case II, is = \", check_order(string, pattern))\n"
   ]
  },
  {
   "cell_type": "code",
   "execution_count": 36,
   "id": "b068eceb",
   "metadata": {},
   "outputs": [
    {
     "name": "stdout",
     "output_type": "stream",
     "text": [
      "Python Dictionaries sort by key =  [('age', 25), ('job', 'Developer'), ('name', 'John')]\n",
      " \n",
      "Python Dictionaries sort by value: [('age', 25), ('job', 'Developer'), ('name', 'John')]\n"
     ]
    }
   ],
   "source": [
    "# Question 7. Write a Python program to sort Python Dictionaries by Key or Value?\n",
    "\n",
    "# Solution: Here is the solution code for the asked question-\n",
    "\n",
    "# CODE:\n",
    "\n",
    "# To sort by key:\n",
    "dict = {'name': 'John', 'age': 25, 'job': 'Developer'}\n",
    "sorted_dict = sorted(dict.items())\n",
    "print(\"Python Dictionaries sort by key = \", sorted_dict)\n",
    "\n",
    "print(\" \")\n",
    "\n",
    "# To sort by value:\n",
    "dict = {'name': 'John', 'age': 25, 'job': 'Developer'}\n",
    "sorted_dict = sorted(dict.items(), key=lambda x: str(x[1]))\n",
    "print(\"Python Dictionaries sort by value:\", sorted_dict)\n"
   ]
  }
 ],
 "metadata": {
  "kernelspec": {
   "display_name": "Python 3 (ipykernel)",
   "language": "python",
   "name": "python3"
  },
  "language_info": {
   "codemirror_mode": {
    "name": "ipython",
    "version": 3
   },
   "file_extension": ".py",
   "mimetype": "text/x-python",
   "name": "python",
   "nbconvert_exporter": "python",
   "pygments_lexer": "ipython3",
   "version": "3.9.13"
  }
 },
 "nbformat": 4,
 "nbformat_minor": 5
}
