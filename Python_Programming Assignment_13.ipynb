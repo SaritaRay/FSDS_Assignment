{
 "cells": [
  {
   "cell_type": "code",
   "execution_count": 9,
   "id": "80aecea0",
   "metadata": {},
   "outputs": [
    {
     "name": "stdout",
     "output_type": "stream",
     "text": [
      "Enter comma-separated values of D: 100, 150, 180\n",
      "[18, 22, 24]\n"
     ]
    }
   ],
   "source": [
    "# Question 1. Write a program that calculates and prints the value according to the given formula:\n",
    "'''\n",
    "Q = Square root of [(2 * C * D)/H]\n",
    "\n",
    "Following are the fixed values of C and H:\n",
    "\n",
    "C is 50. H is 30.\n",
    "\n",
    "D is the variable whose values should be input to your program in a comma-separated\n",
    "sequence.\n",
    "\n",
    "Example:\n",
    "\n",
    "Let us assume the following comma separated input sequence is given to the program:\n",
    "100,150,180\n",
    "\n",
    "The output of the program should be:\n",
    "18,22,24\n",
    "'''\n",
    "\n",
    "\n",
    "# Solution: Here is the solution code for the asked question-\n",
    "\n",
    "# CODE:\n",
    "\n",
    "import math\n",
    "\n",
    "C = 50\n",
    "H = 30\n",
    "\n",
    "D = input(\"Enter comma-separated values of D: \")\n",
    "D_list = D.split(\",\")\n",
    "\n",
    "result = []\n",
    "for i in D_list:\n",
    "    Q = round(math.sqrt((2 * C * int(i)) / H))\n",
    "    result.append(Q)\n",
    "\n",
    "print(result)\n"
   ]
  },
  {
   "cell_type": "code",
   "execution_count": 13,
   "id": "f900b05e",
   "metadata": {},
   "outputs": [
    {
     "name": "stdout",
     "output_type": "stream",
     "text": [
      "Enter X: 3\n",
      "Enter Y: 5\n",
      "[[0, 0, 0, 0, 0], [0, 1, 2, 3, 4], [0, 2, 4, 6, 8]]\n"
     ]
    }
   ],
   "source": [
    "# Question 2. Write a program which takes 2 digits, X,Y as input and generates a 2-dimensional array. The element value in the i-th row and j-th column of the array should be i*j.\n",
    "'''\n",
    "Note: i=0,1.., X-1; j=0,1,¡Y-1.\n",
    "\n",
    "Example:\n",
    "Suppose the following inputs are given to the program:\n",
    "3,5\n",
    "\n",
    "Then, the output of the program should be:\n",
    "[[0, 0, 0, 0, 0], [0, 1, 2, 3, 4], [0, 2, 4, 6, 8]]\n",
    "\n",
    "'''\n",
    "\n",
    "# Solution: Here is the solution code for the asked question-\n",
    "\n",
    "# CODE:\n",
    "\n",
    "X = int(input(\"Enter X: \"))\n",
    "Y = int(input(\"Enter Y: \"))\n",
    "\n",
    "result = []\n",
    "for i in range(X):\n",
    "    row = []\n",
    "    for j in range(Y):\n",
    "        row.append(i * j)\n",
    "    result.append(row)\n",
    "\n",
    "print(result)\n"
   ]
  },
  {
   "cell_type": "code",
   "execution_count": 25,
   "id": "ad1c417a",
   "metadata": {},
   "outputs": [
    {
     "name": "stdout",
     "output_type": "stream",
     "text": [
      "Enter comma-separated words: without, hello, bag, world\n",
      "the words in a comma-separated sequence after sorting them alphabetically:  bag,hello,without,world\n"
     ]
    }
   ],
   "source": [
    "# Question 3. Write a program that accepts a comma separated sequence of words as input and prints the words in a comma-separated sequence after sorting them alphabetically.\n",
    "'''\n",
    "Suppose the following input is supplied to the program:\n",
    "without,hello,bag,world\n",
    "\n",
    "Then, the output should be:\n",
    "bag,hello,without,world\n",
    "\n",
    "'''\n",
    "\n",
    "# Solution: Here is the solution code for the asked question-\n",
    "\n",
    "# CODE:\n",
    "\n",
    "words = input(\"Enter comma-separated words: \")\n",
    "words_list = words.split(\",\")\n",
    "words_list = [word.strip() for word in words_list]\n",
    "words_list = sorted(words_list)\n",
    "\n",
    "result = \",\".join(words_list)\n",
    "print(\"the words in a comma-separated sequence after sorting them alphabetically: \", result)\n"
   ]
  },
  {
   "cell_type": "code",
   "execution_count": 37,
   "id": "1ab74255",
   "metadata": {},
   "outputs": [
    {
     "name": "stdout",
     "output_type": "stream",
     "text": [
      "Enter whitespace-separated words : hello world and practice makes perfect and hello world again\n",
      "Alphanumerically sorted words after removing all duplicates is :  again and hello makes perfect practice world\n"
     ]
    }
   ],
   "source": [
    "# Question 4. Write a program that accepts a sequence of whitespace separated words as input and prints the words after removing all duplicate words and sorting them alphanumerically.\n",
    "'''\n",
    "Suppose the following input is supplied to the program:\n",
    "hello world and practice makes perfect and hello world again\n",
    "\n",
    "Then, the output should be:\n",
    "again and hello makes perfect practice world\n",
    "\n",
    "'''\n",
    "\n",
    "# Solution: Here is the solution code for the asked question-\n",
    "\n",
    "# CODE:\n",
    "\n",
    "words = input(\"Enter whitespace-separated words : \")\n",
    "words_list = words.split(\" \")\n",
    "words_list = list(set(words_list))\n",
    "words_list.sort()\n",
    "\n",
    "result = \" \".join(words_list)\n",
    "print(\"Alphanumerically sorted words after removing all duplicates is : \", result)\n"
   ]
  },
  {
   "cell_type": "code",
   "execution_count": 43,
   "id": "bf09923f",
   "metadata": {},
   "outputs": [
    {
     "name": "stdout",
     "output_type": "stream",
     "text": [
      "Enter a sentence: hello world! 123\n",
      "LETTERS 10\n",
      "DIGITS 3\n"
     ]
    }
   ],
   "source": [
    "# Question 5. Write a program that accepts a sentence and calculate the number of letters and digits.\n",
    "'''\n",
    "Suppose the following input is supplied to the program:\n",
    "hello world! 123\n",
    "\n",
    "Then, the output should be:\n",
    "LETTERS 10\n",
    "DIGITS 3\n",
    "\n",
    "'''\n",
    "\n",
    "# Solution: Here is the solution code for the asked question-\n",
    "\n",
    "# CODE:\n",
    "\n",
    "sentence = input(\"Enter a sentence: \")\n",
    "letters = 0\n",
    "digits = 0\n",
    "\n",
    "for char in sentence:\n",
    "    if char.isalpha():\n",
    "        letters += 1\n",
    "    elif char.isdigit():\n",
    "        digits += 1\n",
    "\n",
    "print(\"LETTERS\", letters)\n",
    "print(\"DIGITS\", digits)\n"
   ]
  },
  {
   "cell_type": "code",
   "execution_count": 52,
   "id": "30231e17",
   "metadata": {},
   "outputs": [
    {
     "name": "stdout",
     "output_type": "stream",
     "text": [
      "Enter comma separated passwords: ABd1234@1,a F1#,2w3E*,2We3345\n",
      "From the given passwords, the 'Valid Password' is :  ABd1234@1,"
     ]
    }
   ],
   "source": [
    "# Question 6. A website requires the users to input username and password to register. Write a program to check the validity of password input by users.\n",
    "'''\n",
    "Following are the criteria for checking the password:\n",
    "1. At least 1 letter between [a-z]\n",
    "2. At least 1 number between [0-9]\n",
    "1. At least 1 letter between [A-Z]\n",
    "3. At least 1 character from [$#@]\n",
    "4. Minimum length of transaction password: 6\n",
    "5. Maximum length of transaction password: 12\n",
    "\n",
    "Your program should accept a sequence of comma separated passwords and will check them according to the above criteria. Passwords that match the criteria are to be printed, each separated by a comma.\n",
    "\n",
    "Example\n",
    "If the following passwords are given as input to the program:\n",
    "ABd1234@1,a F1#,2w3E*,2We3345\n",
    "\n",
    "Then, the output of the program should be:\n",
    "ABd1234@1\n",
    "\n",
    "'''\n",
    "\n",
    "# Solution: Here is the solution code for the asked question-\n",
    "\n",
    "# CODE:\n",
    "\n",
    "import re\n",
    "\n",
    "passwords = input(\"Enter comma separated passwords: \").split(',')\n",
    "\n",
    "for password in passwords:\n",
    "    if len(password) < 6 or len(password) > 12:\n",
    "        continue\n",
    "    elif not re.search(\"[a-z]\", password):\n",
    "        continue\n",
    "    elif not re.search(\"[0-9]\", password):\n",
    "        continue\n",
    "    elif not re.search(\"[A-Z]\", password):\n",
    "        continue\n",
    "    elif not re.search(\"[$#@]\", password):\n",
    "        continue\n",
    "    else:\n",
    "        print(\"From the given passwords, the 'Valid Password' is : \", password, end=\",\")\n"
   ]
  }
 ],
 "metadata": {
  "kernelspec": {
   "display_name": "Python 3 (ipykernel)",
   "language": "python",
   "name": "python3"
  },
  "language_info": {
   "codemirror_mode": {
    "name": "ipython",
    "version": 3
   },
   "file_extension": ".py",
   "mimetype": "text/x-python",
   "name": "python",
   "nbconvert_exporter": "python",
   "pygments_lexer": "ipython3",
   "version": "3.9.13"
  }
 },
 "nbformat": 4,
 "nbformat_minor": 5
}
