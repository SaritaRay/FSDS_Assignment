{
 "cells": [
  {
   "cell_type": "code",
   "execution_count": 7,
   "id": "f05891dd",
   "metadata": {},
   "outputs": [
    {
     "name": "stdout",
     "output_type": "stream",
     "text": [
      "The sum of elements in the list is: 55\n"
     ]
    }
   ],
   "source": [
    "# Question 1. Write a Python program to find sum of elements in list?\n",
    "\n",
    "# Solution: Here is the solution code for the asked question-\n",
    "\n",
    "# CODE:\n",
    "\n",
    "my_list = [1, 2, 3, 4, 5, 6, 7, 8, 9, 10]\n",
    "sum = 0\n",
    "\n",
    "for i in my_list:\n",
    "    sum += i\n",
    "\n",
    "print(\"The sum of elements in the list is:\", sum)\n"
   ]
  },
  {
   "cell_type": "code",
   "execution_count": 15,
   "id": "9bf31961",
   "metadata": {},
   "outputs": [
    {
     "name": "stdout",
     "output_type": "stream",
     "text": [
      "The product of all elements in the list is: 362880\n"
     ]
    }
   ],
   "source": [
    "# Question 2. Write a Python program to Multiply all numbers in the list?\n",
    "\n",
    "# Solution: Here is the solution code for the asked question-\n",
    "\n",
    "# CODE:\n",
    "\n",
    "my_list = [1, 2, 3, 4, 5, 6, 7, 8, 9]\n",
    "result = 1\n",
    "\n",
    "for i in my_list:\n",
    "    result *= i\n",
    "\n",
    "print(\"The product of all elements in the list is:\", result)\n"
   ]
  },
  {
   "cell_type": "code",
   "execution_count": 21,
   "id": "c3933e45",
   "metadata": {},
   "outputs": [
    {
     "name": "stdout",
     "output_type": "stream",
     "text": [
      "The smallest number in the list is: 33\n"
     ]
    }
   ],
   "source": [
    "# Question 3. Write a Python program to find smallest number in a list?\n",
    "\n",
    "# Solution: Here is the solution code for the asked question-\n",
    "\n",
    "# CODE:\n",
    "\n",
    "my_list = [101, 52, 99, 33, 151]\n",
    "smallest = my_list[0]\n",
    "\n",
    "for i in my_list:\n",
    "    if i < smallest:\n",
    "        smallest = i\n",
    "\n",
    "print(\"The smallest number in the list is:\", smallest)\n"
   ]
  },
  {
   "cell_type": "code",
   "execution_count": 23,
   "id": "186a117e",
   "metadata": {},
   "outputs": [
    {
     "name": "stdout",
     "output_type": "stream",
     "text": [
      "The largest number in the list is: 151\n"
     ]
    }
   ],
   "source": [
    "# Question 4. Write a Python program to find largest number in a list?\n",
    "\n",
    "# Solution: Here is the solution code for the asked question-\n",
    "\n",
    "# CODE:\n",
    "\n",
    "my_list = [101, 52, 99, 33, 151]\n",
    "largest = my_list[0]\n",
    "\n",
    "for i in my_list:\n",
    "    if i > largest:\n",
    "        largest = i\n",
    "\n",
    "print(\"The largest number in the list is:\", largest)\n"
   ]
  },
  {
   "cell_type": "code",
   "execution_count": 31,
   "id": "874ef145",
   "metadata": {},
   "outputs": [
    {
     "name": "stdout",
     "output_type": "stream",
     "text": [
      "The second largest number in the list is: 101\n"
     ]
    }
   ],
   "source": [
    "# Question 5. Write a Python program to find second largest number in a list?\n",
    "\n",
    "# Solution: Here is the solution code for the asked question-\n",
    "\n",
    "# CODE:\n",
    "\n",
    "my_list = [101, 52, 99, 33, 151]\n",
    "largest = my_list[0]\n",
    "second_largest = None\n",
    "\n",
    "for i in my_list:\n",
    "    if i > largest:\n",
    "        second_largest = largest\n",
    "        largest = i\n",
    "    elif second_largest is None or i > second_largest:\n",
    "        second_largest = i\n",
    "\n",
    "print(\"The second largest number in the list is:\", second_largest)\n"
   ]
  },
  {
   "cell_type": "code",
   "execution_count": 35,
   "id": "9347a2e7",
   "metadata": {},
   "outputs": [
    {
     "name": "stdout",
     "output_type": "stream",
     "text": [
      "The 3 largest numbers in the list are: [99, 101, 151]\n"
     ]
    }
   ],
   "source": [
    "# Question 6. Write a Python program to find N largest elements from a list?\n",
    "\n",
    "# Solution: Here is the solution code for the asked question-\n",
    "\n",
    "# CODE:\n",
    "\n",
    "my_list = [101, 52, 99, 33, 151]\n",
    "n = 3\n",
    "\n",
    "largest = sorted(my_list)[-n:]\n",
    "\n",
    "print(\"The\", n, \"largest numbers in the list are:\", largest)\n"
   ]
  },
  {
   "cell_type": "code",
   "execution_count": 38,
   "id": "52f28d02",
   "metadata": {},
   "outputs": [
    {
     "name": "stdout",
     "output_type": "stream",
     "text": [
      "28\n",
      "14\n",
      "52\n",
      "42\n"
     ]
    }
   ],
   "source": [
    "# Question 7. Write a Python program to print even numbers in a list?\n",
    "\n",
    "# Solution: Here is the solution code for the asked question-\n",
    "\n",
    "# CODE:\n",
    "\n",
    "my_list = [101, 28, 14, 52, 99, 33, 42, 73, 61, 151]\n",
    "\n",
    "for i in my_list:\n",
    "    if i % 2 == 0:\n",
    "        print(i)\n"
   ]
  },
  {
   "cell_type": "code",
   "execution_count": 40,
   "id": "655fc151",
   "metadata": {},
   "outputs": [
    {
     "name": "stdout",
     "output_type": "stream",
     "text": [
      "101\n",
      "99\n",
      "33\n",
      "73\n",
      "61\n",
      "151\n"
     ]
    }
   ],
   "source": [
    "# Question 8. Write a Python program to print odd numbers in a List?\n",
    "\n",
    "# Solution: Here is the solution code for the asked question-\n",
    "\n",
    "# CODE:\n",
    "\n",
    "my_list = [101, 28, 14, 52, 99, 33, 42, 73, 61, 151]\n",
    "\n",
    "for i in my_list:\n",
    "    if i % 2 != 0:\n",
    "        print(i)\n"
   ]
  },
  {
   "cell_type": "code",
   "execution_count": 44,
   "id": "d0112df4",
   "metadata": {},
   "outputs": [
    {
     "name": "stdout",
     "output_type": "stream",
     "text": [
      "The new list is: [[6, 13, 9], [20, 5]]\n"
     ]
    }
   ],
   "source": [
    "# Question 9. Write a Python program to Remove empty List from List?\n",
    "\n",
    "# Solution: Here is the solution code for the asked question-\n",
    "\n",
    "# CODE:\n",
    "\n",
    "my_list = [[], [6, 13, 9], [], [], [20, 5], []]\n",
    "\n",
    "new_list = [i for i in my_list if i != []]\n",
    "\n",
    "print(\"The new list is:\", new_list)\n"
   ]
  },
  {
   "cell_type": "code",
   "execution_count": 47,
   "id": "8e3d1768",
   "metadata": {},
   "outputs": [
    {
     "name": "stdout",
     "output_type": "stream",
     "text": [
      "The original list is: [6, 13, 9, 20, 5]\n",
      "The new list is: [6, 13, 9, 20, 5]\n"
     ]
    }
   ],
   "source": [
    "# Question 10. Write a Python program to Cloning or Copying a list?\n",
    "\n",
    "# Solution: Here is the solution code for the asked question-\n",
    "\n",
    "# CODE:\n",
    "\n",
    "my_list = [6, 13, 9, 20, 5]\n",
    "\n",
    "new_list = my_list.copy()\n",
    "\n",
    "print(\"The original list is:\", my_list)\n",
    "print(\"The new list is:\", new_list)\n"
   ]
  },
  {
   "cell_type": "code",
   "execution_count": 55,
   "id": "1a41f8b9",
   "metadata": {},
   "outputs": [
    {
     "name": "stdout",
     "output_type": "stream",
     "text": [
      "The number of occurrences of 3 in the list is: 4\n"
     ]
    }
   ],
   "source": [
    "# Question 11. Write a Python program to Count occurrences of an element in a list?\n",
    "\n",
    "# Solution: Here is the solution code for the asked question-\n",
    "\n",
    "# CODE:\n",
    "\n",
    "my_list = [1, 2, 3, 3, 5, 4, 2, 3, 4, 8, 1, 3]\n",
    "\n",
    "element = 3\n",
    "\n",
    "count = 0\n",
    "\n",
    "for i in my_list:\n",
    "    if i == element:\n",
    "        count += 1\n",
    "\n",
    "print(\"The number of occurrences of\", element, \"in the list is:\", count)\n"
   ]
  }
 ],
 "metadata": {
  "kernelspec": {
   "display_name": "Python 3 (ipykernel)",
   "language": "python",
   "name": "python3"
  },
  "language_info": {
   "codemirror_mode": {
    "name": "ipython",
    "version": 3
   },
   "file_extension": ".py",
   "mimetype": "text/x-python",
   "name": "python",
   "nbconvert_exporter": "python",
   "pygments_lexer": "ipython3",
   "version": "3.9.13"
  }
 },
 "nbformat": 4,
 "nbformat_minor": 5
}
