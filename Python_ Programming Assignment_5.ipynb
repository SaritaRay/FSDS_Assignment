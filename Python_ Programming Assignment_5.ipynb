{
 "cells": [
  {
   "cell_type": "code",
   "execution_count": 6,
   "id": "f13e3c6e",
   "metadata": {},
   "outputs": [
    {
     "name": "stdout",
     "output_type": "stream",
     "text": [
      "Enter first number: 15\n",
      "Enter second number: 25\n",
      "The LCM of 15 and 25 is 75\n"
     ]
    }
   ],
   "source": [
    "# Question 1. Write a Python Program to Find LCM?\n",
    "\n",
    "# Solution : Here is the solution code for the asked question-\n",
    "\n",
    "# CODE:\n",
    "\n",
    "def find_lcm(num1, num2):\n",
    "    if num1 > num2:\n",
    "        greater = num1\n",
    "    else:\n",
    "        greater = num2\n",
    "\n",
    "    while(True):\n",
    "        if((greater % num1 == 0) and (greater % num2 == 0)):\n",
    "            lcm = greater\n",
    "            break\n",
    "        greater += 1\n",
    "\n",
    "    return lcm\n",
    "\n",
    "num1 = int(input(\"Enter first number: \"))\n",
    "num2 = int(input(\"Enter second number: \"))\n",
    "\n",
    "print(\"The LCM of\", num1,\"and\", num2,\"is\", find_lcm(num1, num2))\n"
   ]
  },
  {
   "cell_type": "code",
   "execution_count": 9,
   "id": "6deee614",
   "metadata": {},
   "outputs": [
    {
     "name": "stdout",
     "output_type": "stream",
     "text": [
      "Enter first number: 25\n",
      "Enter second number: 30\n",
      "The HCF of 25 and 30 is 5\n"
     ]
    }
   ],
   "source": [
    "# Question 2. Write a Python Program to Find HCF?\n",
    "\n",
    "# Solution : Here is the solution code for the asked question-\n",
    "\n",
    "# CODE:\n",
    "\n",
    "def hcf(x, y):\n",
    "    if y == 0:\n",
    "        return x\n",
    "    else:\n",
    "        return hcf(y, x % y)\n",
    "\n",
    "num1 = int(input(\"Enter first number: \"))\n",
    "num2 = int(input(\"Enter second number: \"))\n",
    "\n",
    "print(\"The HCF of\", num1,\"and\", num2,\"is\", hcf(num1, num2))\n"
   ]
  },
  {
   "cell_type": "code",
   "execution_count": 16,
   "id": "104a3a1f",
   "metadata": {},
   "outputs": [
    {
     "name": "stdout",
     "output_type": "stream",
     "text": [
      "Enter a decimal number: 7\n",
      "The decimal value of 7 is:\n",
      "0b111 in binary.\n",
      "0o7 in octal.\n",
      "0x7 in hexadecimal.\n"
     ]
    }
   ],
   "source": [
    "# Question 3. Write a Python Program to Convert Decimal to Binary, Octal and Hexadecimal?\n",
    "\n",
    "# Solution : Here is the solution code for the asked question-\n",
    "\n",
    "# CODE:\n",
    "\n",
    "dec = float(input(\"Enter a decimal number: \"))\n",
    "\n",
    "if dec.is_integer():\n",
    "    print(\"The decimal value of\", int(dec), \"is:\")\n",
    "    print(bin(int(dec)), \"in binary.\")\n",
    "    print(oct(int(dec)), \"in octal.\")\n",
    "    print(hex(int(dec)), \"in hexadecimal.\")\n",
    "else:\n",
    "    print(\"The decimal value of\", dec, \"is:\")\n",
    "    print(bin(int(dec)), \"in binary.\")\n",
    "    print(oct(int(dec)), \"in octal.\")\n",
    "    print(hex(int(dec)), \"in hexadecimal.\")\n"
   ]
  },
  {
   "cell_type": "code",
   "execution_count": 33,
   "id": "11f0b88c",
   "metadata": {},
   "outputs": [
    {
     "name": "stdout",
     "output_type": "stream",
     "text": [
      "Enter a character: A\n",
      "The ASCII value of 'A' is 65\n"
     ]
    }
   ],
   "source": [
    "# Question 4. Write a Python Program To Find ASCII value of a character?\n",
    "\n",
    "# Solution : Here is the solution code for the asked question-\n",
    "\n",
    "# CODE:\n",
    "\n",
    "c = input(\"Enter a character: \")\n",
    "print(\"The ASCII value of '\" + c + \"' is\", ord(c))\n"
   ]
  },
  {
   "cell_type": "code",
   "execution_count": 29,
   "id": "725692e2",
   "metadata": {},
   "outputs": [
    {
     "name": "stdout",
     "output_type": "stream",
     "text": [
      "Enter '+' to add two numbers\n",
      "Enter '-' to subtract two numbers\n",
      "Enter '*' to multiply two numbers\n",
      "Enter '/' to divide two numbers\n",
      "Enter 'quit' to end the program\n",
      ": -\n",
      "Enter a number: 13\n",
      "Enter another number: 15\n",
      "13.0 - 15.0 = -2.0\n",
      "Enter '+' to add two numbers\n",
      "Enter '-' to subtract two numbers\n",
      "Enter '*' to multiply two numbers\n",
      "Enter '/' to divide two numbers\n",
      "Enter 'quit' to end the program\n",
      ": +\n",
      "Enter a number: 10\n",
      "Enter another number: 49\n",
      "10.0 + 49.0 = 59.0\n",
      "Enter '+' to add two numbers\n",
      "Enter '-' to subtract two numbers\n",
      "Enter '*' to multiply two numbers\n",
      "Enter '/' to divide two numbers\n",
      "Enter 'quit' to end the program\n",
      ": /\n",
      "Enter a number: 48\n",
      "Enter another number: 12\n",
      "48.0 / 12.0 = 4.0\n",
      "Enter '+' to add two numbers\n",
      "Enter '-' to subtract two numbers\n",
      "Enter '*' to multiply two numbers\n",
      "Enter '/' to divide two numbers\n",
      "Enter 'quit' to end the program\n",
      ": *\n",
      "Enter a number: 3\n",
      "Enter another number: 6\n",
      "3.0 * 6.0 = 18.0\n",
      "Enter '+' to add two numbers\n",
      "Enter '-' to subtract two numbers\n",
      "Enter '*' to multiply two numbers\n",
      "Enter '/' to divide two numbers\n",
      "Enter 'quit' to end the program\n",
      ": quit\n"
     ]
    }
   ],
   "source": [
    "# Question 5. Write a Python Program to Make a Simple Calculator with 4 basic mathematical operations?\n",
    "\n",
    "# Solution : Here is the solution code for the asked question-\n",
    "\n",
    "# CODE:\n",
    "\n",
    "def calculator():\n",
    "    while True:\n",
    "        # Print options for the user\n",
    "        print(\"Enter '+' to add two numbers\")\n",
    "        print(\"Enter '-' to subtract two numbers\")\n",
    "        print(\"Enter '*' to multiply two numbers\")\n",
    "        print(\"Enter '/' to divide two numbers\")\n",
    "        print(\"Enter 'quit' to end the program\")\n",
    "        \n",
    "        # Get user input\n",
    "        user_input = input(\": \")\n",
    "\n",
    "        # Check if the user wants to quit\n",
    "        if user_input == \"quit\":\n",
    "            break\n",
    "        # Check if the user input is a valid operator\n",
    "        elif user_input in [\"+\", \"-\", \"*\", \"/\"]:\n",
    "            # Get first number\n",
    "            num1 = float(input(\"Enter a number: \"))\n",
    "            # Get second number\n",
    "            num2 = float(input(\"Enter another number: \"))\n",
    "\n",
    "            # Perform the operation based on the user input\n",
    "            if user_input == \"+\":\n",
    "                result = num1 + num2\n",
    "                print(num1, \"+\", num2, \"=\", result)\n",
    "\n",
    "            elif user_input == \"-\":\n",
    "                result = num1 - num2\n",
    "                print(num1, \"-\", num2, \"=\", result)\n",
    "\n",
    "            elif user_input == \"*\":\n",
    "                result = num1 * num2\n",
    "                print(num1, \"*\", num2, \"=\", result)\n",
    "\n",
    "            elif user_input == \"/\":\n",
    "                result = num1 / num2\n",
    "                print(num1, \"/\", num2, \"=\", result)\n",
    "        else:\n",
    "            # In case of invalid input\n",
    "            print(\"Invalid Input\")\n",
    "\n",
    "# Call the calculator function to start the program\n",
    "calculator()"
   ]
  }
 ],
 "metadata": {
  "kernelspec": {
   "display_name": "Python 3 (ipykernel)",
   "language": "python",
   "name": "python3"
  },
  "language_info": {
   "codemirror_mode": {
    "name": "ipython",
    "version": 3
   },
   "file_extension": ".py",
   "mimetype": "text/x-python",
   "name": "python",
   "nbconvert_exporter": "python",
   "pygments_lexer": "ipython3",
   "version": "3.9.13"
  }
 },
 "nbformat": 4,
 "nbformat_minor": 5
}
