{
 "cells": [
  {
   "cell_type": "code",
   "execution_count": 9,
   "id": "f3b4d127",
   "metadata": {},
   "outputs": [
    {
     "name": "stdout",
     "output_type": "stream",
     "text": [
      "The sum of the matrices is: [[4, 4, 4], [13, 13, 13], [13, 13, 13]]\n"
     ]
    }
   ],
   "source": [
    "# Question 1. Write a Python Program to Add Two Matrices?\n",
    "\n",
    "# Solution: Here is the solution code for the asked question-\n",
    "\n",
    "# CODE:\n",
    "\n",
    "# function to add two matrices\n",
    "def add_matrices(X, Y):\n",
    "    # create a matrix of zeros with the same dimensions as X and Y\n",
    "    result = [[0 for j in range(len(X[0]))] for i in range(len(X))]\n",
    "\n",
    "    # iterate through rows\n",
    "    for i in range(len(X)):\n",
    "        # iterate through columns\n",
    "        for j in range(len(X[0])):\n",
    "            result[i][j] = X[i][j] + Y[i][j]\n",
    "\n",
    "    return result\n",
    "\n",
    "# example matrices\n",
    "X = [[1, 2, 3],\n",
    "     [7, 8, 9],\n",
    "     [4, 5, 6]]\n",
    "Y = [[3, 2, 1],\n",
    "     [6, 5, 4],\n",
    "     [9, 8, 7]]\n",
    "\n",
    "# call the function and print the result\n",
    "print(\"The sum of the matrices is:\", add_matrices(X, Y))\n"
   ]
  },
  {
   "cell_type": "code",
   "execution_count": 22,
   "id": "3564f380",
   "metadata": {},
   "outputs": [
    {
     "name": "stdout",
     "output_type": "stream",
     "text": [
      "The product of the matrices is: [[89, 24], [116, 68], [103, 44]]\n"
     ]
    }
   ],
   "source": [
    "# Question 2. Write a Python Program to Multiply Two Matrices?\n",
    "\n",
    "# Solution: Here is the solution code for the asked question-\n",
    "\n",
    "# CODE:\n",
    "\n",
    "# function to multiply two matrices\n",
    "def multiply_matrices(X, Y):\n",
    "    # create a matrix of zeros with the same dimensions as X and Y\n",
    "    result = [[0 for j in range(len(Y[0]))] for i in range(len(X))]\n",
    "\n",
    "    # iterate through rows of X\n",
    "    for i in range(len(X)):\n",
    "        # iterate through columns of Y\n",
    "        for j in range(len(Y[0])):\n",
    "            # iterate through rows of Y\n",
    "            for k in range(len(Y)):\n",
    "                result[i][j] += X[i][k] * Y[k][j]\n",
    "\n",
    "    return result\n",
    "\n",
    "# example matrices\n",
    "X = [[1, 9],\n",
    "     [10, 4],\n",
    "     [5, 7]]\n",
    "Y = [[8, 6],\n",
    "     [9, 2]]\n",
    "\n",
    "# call the function and print the result\n",
    "print(\"The product of the matrices is:\", multiply_matrices(X, Y))\n"
   ]
  },
  {
   "cell_type": "code",
   "execution_count": 31,
   "id": "5bda0c2f",
   "metadata": {},
   "outputs": [
    {
     "name": "stdout",
     "output_type": "stream",
     "text": [
      "The transpose of the matrix is: [[8, 9, 5], [3, 4, 7]]\n"
     ]
    }
   ],
   "source": [
    "# Question 3. Write a Python Program to Transpose a Matrix?\n",
    "\n",
    "# Solution: Here is the solution code for the asked question-\n",
    "\n",
    "# CODE:\n",
    "\n",
    "# function to transpose a matrix\n",
    "def transpose_matrix(X):\n",
    "    # create a matrix of zeros with the dimensions of X transposed\n",
    "    result = [[0 for j in range(len(X))] for i in range(len(X[0]))]\n",
    "\n",
    "    # iterate through rows of X\n",
    "    for i in range(len(X)):\n",
    "        # iterate through columns of X\n",
    "        for j in range(len(X[0])):\n",
    "            result[j][i] = X[i][j]\n",
    "\n",
    "    return result\n",
    "\n",
    "# example matrix\n",
    "X = [[8, 3],\n",
    "     [9, 4],\n",
    "     [5, 7]]\n",
    "\n",
    "# call the function and print the result\n",
    "print(\"The transpose of the matrix is:\", transpose_matrix(X))\n"
   ]
  },
  {
   "cell_type": "code",
   "execution_count": 44,
   "id": "b7e27cbf",
   "metadata": {},
   "outputs": [
    {
     "name": "stdout",
     "output_type": "stream",
     "text": [
      "The sorted words are: am i lazy\n"
     ]
    }
   ],
   "source": [
    "# Question 4. Write a Python Program to Sort Words in Alphabetic Order?\n",
    "\n",
    "# Solution: Here is the solution code for the asked question-\n",
    "\n",
    "# CODE:\n",
    "\n",
    "# function to sort words in alphabetical order\n",
    "def sort_words(words):\n",
    "    # split the words into a list\n",
    "    words_list = words.split()\n",
    "\n",
    "    # sort the list\n",
    "    words_list.sort()\n",
    "\n",
    "    # join the sorted list into a string\n",
    "    sorted_words = ' '.join(words_list)\n",
    "\n",
    "    return sorted_words\n",
    "\n",
    "# example string of words\n",
    "words = \"i am lazy\"\n",
    "\n",
    "# call the function and print the result\n",
    "print(\"The sorted words are:\", sort_words(words))\n"
   ]
  },
  {
   "cell_type": "code",
   "execution_count": 49,
   "id": "ba410f46",
   "metadata": {},
   "outputs": [
    {
     "name": "stdout",
     "output_type": "stream",
     "text": [
      "The text without punctuation is: Hello World\n"
     ]
    }
   ],
   "source": [
    "# Question 5. Write a Python Program to Remove Punctuation From a String?\n",
    "\n",
    "# Solution: Here is the solution code for the asked question-\n",
    "\n",
    "# CODE:\n",
    "\n",
    "import string\n",
    "\n",
    "# function to remove punctuation from a string\n",
    "def remove_punctuation(text):\n",
    "    # create a translation table for removing punctuation\n",
    "    translator = str.maketrans('', '', string.punctuation)\n",
    "\n",
    "    # remove the punctuation from the text\n",
    "    text = text.translate(translator)\n",
    "\n",
    "    return text\n",
    "\n",
    "# example string with punctuation\n",
    "text = \"Hello, World!\"\n",
    "\n",
    "# call the function and print the result\n",
    "print(\"The text without punctuation is:\", remove_punctuation(text))\n"
   ]
  }
 ],
 "metadata": {
  "kernelspec": {
   "display_name": "Python 3 (ipykernel)",
   "language": "python",
   "name": "python3"
  },
  "language_info": {
   "codemirror_mode": {
    "name": "ipython",
    "version": 3
   },
   "file_extension": ".py",
   "mimetype": "text/x-python",
   "name": "python",
   "nbconvert_exporter": "python",
   "pygments_lexer": "ipython3",
   "version": "3.9.13"
  }
 },
 "nbformat": 4,
 "nbformat_minor": 5
}
