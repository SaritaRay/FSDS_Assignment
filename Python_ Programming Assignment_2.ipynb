{
 "cells": [
  {
   "cell_type": "code",
   "execution_count": 26,
   "id": "8460be61",
   "metadata": {},
   "outputs": [
    {
     "name": "stdout",
     "output_type": "stream",
     "text": [
      "Enter value in kilometers: 100\n",
      "100.00 kilometers is equal to 62.14 miles\n"
     ]
    }
   ],
   "source": [
    "# Question 1. Write a Python program to convert kilometers to miles?\n",
    "\n",
    "# Solution : Here is the solution code for the asked question-\n",
    "\n",
    "# CODE:\n",
    "\n",
    "kilometers = float(input(\"Enter value in kilometers: \"))\n",
    "conv_fac = 0.621371\n",
    "miles = kilometers * conv_fac\n",
    "print('%0.2f kilometers is equal to %0.2f miles' % (kilometers,miles))\n"
   ]
  },
  {
   "cell_type": "code",
   "execution_count": 29,
   "id": "1b53cdf1",
   "metadata": {},
   "outputs": [
    {
     "name": "stdout",
     "output_type": "stream",
     "text": [
      "Enter temperature in Celsius: 37\n",
      "37.0 degree Celsius is equal to 98.6 degree Fahrenheit\n"
     ]
    }
   ],
   "source": [
    "# Question 2. Write a Python program to convert Celsius to Fahrenheit?\n",
    "\n",
    "# Solution : Here is the solution code for the asked question-\n",
    "\n",
    "# CODE:\n",
    "\n",
    "celsius = float(input(\"Enter temperature in Celsius: \"))\n",
    "fahrenheit = (celsius * 1.8) + 32\n",
    "print('%0.1f degree Celsius is equal to %0.1f degree Fahrenheit' % (celsius,fahrenheit))\n"
   ]
  },
  {
   "cell_type": "code",
   "execution_count": 3,
   "id": "9d3cbf99",
   "metadata": {},
   "outputs": [
    {
     "name": "stdout",
     "output_type": "stream",
     "text": [
      "Enter year: 2023\n",
      "Enter month: 01\n",
      "    January 2023\n",
      "Mo Tu We Th Fr Sa Su\n",
      "                   1\n",
      " 2  3  4  5  6  7  8\n",
      " 9 10 11 12 13 14 15\n",
      "16 17 18 19 20 21 22\n",
      "23 24 25 26 27 28 29\n",
      "30 31\n",
      "\n"
     ]
    }
   ],
   "source": [
    "# Question 3. Write a Python program to display calendar?\n",
    "\n",
    "# Solution : Here is the solution code for the asked question-\n",
    "\n",
    "# CODE:\n",
    "\n",
    "import calendar\n",
    "\n",
    "yy = int(input(\"Enter year: \"))\n",
    "mm = int(input(\"Enter month: \"))\n",
    "\n",
    "print(calendar.month(yy, mm))\n"
   ]
  },
  {
   "cell_type": "code",
   "execution_count": 22,
   "id": "61c9054b",
   "metadata": {},
   "outputs": [
    {
     "name": "stdout",
     "output_type": "stream",
     "text": [
      "Enter coefficient a: 35\n",
      "Enter coefficient b: 46\n",
      "Enter coefficient c: 72\n",
      "The solution are (-0.6571428571428571-1.2748749438470346j) and (-0.6571428571428571+1.2748749438470346j)\n"
     ]
    }
   ],
   "source": [
    "# Question 4. Write a Python program to solve quadratic equation?\n",
    "\n",
    "# Solution : Here is the solution code for the asked question-\n",
    "\n",
    "# CODE:\n",
    "\n",
    "import cmath\n",
    "\n",
    "a = float(input(\"Enter coefficient a: \"))\n",
    "b = float(input(\"Enter coefficient b: \"))\n",
    "c = float(input(\"Enter coefficient c: \"))\n",
    "\n",
    "d = (b**2) - (4*a*c)\n",
    "\n",
    "sol1 = (-b-cmath.sqrt(d))/(2*a)\n",
    "sol2 = (-b+cmath.sqrt(d))/(2*a)\n",
    "\n",
    "print('The solution are {0} and {1}'.format(sol1,sol2))\n"
   ]
  },
  {
   "cell_type": "code",
   "execution_count": 10,
   "id": "8ae560c0",
   "metadata": {},
   "outputs": [
    {
     "name": "stdout",
     "output_type": "stream",
     "text": [
      "Enter value of a: 9\n",
      "Enter value of b: 13\n",
      "After swapping a = 13.0 and b = 9.0\n"
     ]
    }
   ],
   "source": [
    "# Question 5. Write a Python program to swap two variables without temp variable?\n",
    "\n",
    "# Solution : Here is the solution code for the asked question-\n",
    "\n",
    "# CODE:\n",
    "\n",
    "a = float(input(\"Enter value of a: \"))\n",
    "b = float(input(\"Enter value of b: \"))\n",
    "\n",
    "a = a + b\n",
    "b = a - b\n",
    "a = a - b\n",
    "\n",
    "print(\"After swapping a =\", a, \"and b =\", b)\n"
   ]
  }
 ],
 "metadata": {
  "kernelspec": {
   "display_name": "Python 3 (ipykernel)",
   "language": "python",
   "name": "python3"
  },
  "language_info": {
   "codemirror_mode": {
    "name": "ipython",
    "version": 3
   },
   "file_extension": ".py",
   "mimetype": "text/x-python",
   "name": "python",
   "nbconvert_exporter": "python",
   "pygments_lexer": "ipython3",
   "version": "3.9.13"
  }
 },
 "nbformat": 4,
 "nbformat_minor": 5
}
