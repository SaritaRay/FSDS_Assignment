{
 "cells": [
  {
   "cell_type": "code",
   "execution_count": 1,
   "id": "692baba7",
   "metadata": {},
   "outputs": [
    {
     "name": "stdout",
     "output_type": "stream",
     "text": [
      "The sum of the array is: 15\n"
     ]
    }
   ],
   "source": [
    "# Question 1. Write a Python Program to find sum of array?\n",
    "\n",
    "# Solution: Here is the solution code for the asked question-\n",
    "\n",
    "# CODE:\n",
    "\n",
    "def _sum(arr):\n",
    "    # initialize a variable to store the sum\n",
    "    sum = 0\n",
    "\n",
    "    # iterate through the array and add each element to the sum\n",
    "    for i in arr:\n",
    "        sum += i\n",
    "\n",
    "    return sum\n",
    "\n",
    "# example array\n",
    "arr = [1, 2, 3, 4, 5]\n",
    "\n",
    "# call the function and print the result\n",
    "print(\"The sum of the array is:\", _sum(arr))\n"
   ]
  },
  {
   "cell_type": "code",
   "execution_count": 8,
   "id": "f211416e",
   "metadata": {},
   "outputs": [
    {
     "name": "stdout",
     "output_type": "stream",
     "text": [
      "The largest element in the array is: 98\n"
     ]
    }
   ],
   "source": [
    "# Question 2. Write a Python Program to find largest element in an array?\n",
    "\n",
    "# Solution: Here is the solution code for the asked question-\n",
    "\n",
    "# CODE:\n",
    "\n",
    "# function to find the largest element in an array\n",
    "def largest(arr):\n",
    "    # initialize a variable to store the largest element\n",
    "    max = arr[0]\n",
    "\n",
    "    # iterate through the array and compare each element to the current max\n",
    "    for i in range(1, len(arr)):\n",
    "        if arr[i] > max:\n",
    "            max = arr[i]\n",
    "\n",
    "    return max\n",
    "\n",
    "# example array\n",
    "arr = [1, 45, 7, 5, 98, 13]\n",
    "\n",
    "# call the function and print the result\n",
    "print(\"The largest element in the array is:\", largest(arr))\n"
   ]
  },
  {
   "cell_type": "code",
   "execution_count": 22,
   "id": "8d7b9847",
   "metadata": {},
   "outputs": [
    {
     "name": "stdout",
     "output_type": "stream",
     "text": [
      "Enter an index address: 4\n",
      "The rotated array is: [5, 6, 7, 8, 9, 1, 2, 3, 4]\n"
     ]
    }
   ],
   "source": [
    "# Question 3. Write a Python Program for array rotation?\n",
    "\n",
    "# Solution: Here is the solution code for the asked question-\n",
    "\n",
    "# CODE:\n",
    "\n",
    "# function to rotate an array\n",
    "def rotate_array(arr, d):\n",
    "    # slice the array and store the elements that will be moved to the front\n",
    "    temp = arr[:d]\n",
    "\n",
    "    # shift the remaining elements to the left\n",
    "    for i in range(d, len(arr)):\n",
    "        arr[i - d] = arr[i]\n",
    "\n",
    "    # move the stored elements to the end of the array\n",
    "    for i in range(len(arr) - d, len(arr)):\n",
    "        arr[i] = temp[i - len(arr) + d]\n",
    "\n",
    "    return arr\n",
    "\n",
    "# example array and rotation amount\n",
    "arr = [1, 2, 3, 4, 5, 6, 7, 8, 9]\n",
    "d = int(input(\"Enter an index address: \"))\n",
    "\n",
    "# call the function and print the result\n",
    "print(\"The rotated array is:\", rotate_array(arr, d))\n"
   ]
  },
  {
   "cell_type": "code",
   "execution_count": 33,
   "id": "c4e4c320",
   "metadata": {},
   "outputs": [
    {
     "name": "stdout",
     "output_type": "stream",
     "text": [
      "The modified array is: [5, 6, 52, 36, 12, 10]\n"
     ]
    }
   ],
   "source": [
    "# Question 4. Write a Python Program to Split the array and add the first part to the end?\n",
    "\n",
    "# Solution: Here is the solution code for the asked question-\n",
    "\n",
    "# CODE:\n",
    "\n",
    "# function to split an array and add the first part to the end\n",
    "def split_array(arr, n, k):\n",
    "    # slice the array into two parts\n",
    "    part1 = arr[:k]\n",
    "    part2 = arr[k:]\n",
    "\n",
    "    # add the first part to the end of the second part\n",
    "    return part2 + part1\n",
    "\n",
    "# example array and split amount\n",
    "arr = [12, 10, 5, 6, 52, 36]\n",
    "n = len(arr)\n",
    "k = 2\n",
    "\n",
    "# call the function and print the result\n",
    "print(\"The modified array is:\", split_array(arr, n, k))\n"
   ]
  },
  {
   "cell_type": "code",
   "execution_count": 40,
   "id": "4c4d34a8",
   "metadata": {},
   "outputs": [
    {
     "name": "stdout",
     "output_type": "stream",
     "text": [
      "Is arr1 monotonic? True\n",
      "Is arr2 monotonic? False\n",
      "Is arr3 monotonic? True\n"
     ]
    }
   ],
   "source": [
    "# Question 5. Write a Python Program to check if given array is Monotonic?\n",
    "\n",
    "# Solution: Here is the solution code for the asked question-\n",
    "\n",
    "# CODE:\n",
    "\n",
    "# function to check if an array is monotonic\n",
    "def is_monotonic(arr):\n",
    "    # check if the array is monotonic increasing or decreasing\n",
    "    return (all(arr[i] <= arr[i + 1] for i in range(len(arr) - 1)) or\n",
    "            all(arr[i] >= arr[i + 1] for i in range(len(arr) - 1)))\n",
    "\n",
    "# example arrays\n",
    "arr1 = [6, 5, 4, 3, 2]\n",
    "arr2 = [1, -2, 3, 4, 5]\n",
    "arr3 = [1, 2, 3, 4, 5, 5]\n",
    "\n",
    "# call the function and print the result\n",
    "print(\"Is arr1 monotonic?\", is_monotonic(arr1))\n",
    "print(\"Is arr2 monotonic?\", is_monotonic(arr2))\n",
    "print(\"Is arr3 monotonic?\", is_monotonic(arr3))\n"
   ]
  }
 ],
 "metadata": {
  "kernelspec": {
   "display_name": "Python 3 (ipykernel)",
   "language": "python",
   "name": "python3"
  },
  "language_info": {
   "codemirror_mode": {
    "name": "ipython",
    "version": 3
   },
   "file_extension": ".py",
   "mimetype": "text/x-python",
   "name": "python",
   "nbconvert_exporter": "python",
   "pygments_lexer": "ipython3",
   "version": "3.9.13"
  }
 },
 "nbformat": 4,
 "nbformat_minor": 5
}
