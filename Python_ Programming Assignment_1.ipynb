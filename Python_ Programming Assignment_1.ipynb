{
 "cells": [
  {
   "cell_type": "code",
   "execution_count": 1,
   "id": "39a0e17a",
   "metadata": {},
   "outputs": [
    {
     "name": "stdout",
     "output_type": "stream",
     "text": [
      "Hello Python\n"
     ]
    }
   ],
   "source": [
    "# Question 1. Write a Python program to print \"Hello Python\"?\n",
    "\n",
    "# Solution: Here is the solution code for the asked question-\n",
    "\n",
    "# CODE:\n",
    "\n",
    "print(\"Hello Python\")\n"
   ]
  },
  {
   "cell_type": "code",
   "execution_count": 2,
   "id": "14f549f9",
   "metadata": {},
   "outputs": [
    {
     "name": "stdout",
     "output_type": "stream",
     "text": [
      "Enter first number: 1025\n",
      "Enter second number: 25\n",
      "Addition of two numbers is:  1050.0\n",
      "Division of two numbers is:  41.0\n"
     ]
    }
   ],
   "source": [
    "# Question 2. Write a Python program to do arithmetical operations addition and division?\n",
    "\n",
    "# Solution: Here is the solution code for the asked question-\n",
    "\n",
    "# CODE:\n",
    "\n",
    "num1 = float(input(\"Enter first number: \"))\n",
    "num2 = float(input(\"Enter second number: \"))\n",
    "\n",
    "addition = num1 + num2\n",
    "division = num1 / num2\n",
    "\n",
    "print(\"Addition of two numbers is: \", addition)\n",
    "print(\"Division of two numbers is: \", division)\n"
   ]
  },
  {
   "cell_type": "code",
   "execution_count": 14,
   "id": "13328d0a",
   "metadata": {},
   "outputs": [
    {
     "name": "stdout",
     "output_type": "stream",
     "text": [
      "Enter a: 20\n",
      "Enter b: 30\n",
      "Enter c: 40\n",
      "The area of the triangle is  290.4737509655563\n",
      " \n",
      "Enter a: 25\n",
      "The area of the triangle is  270.6329386826371\n",
      " \n",
      "Enter b: 28\n",
      "Enter h: 36\n",
      "The area of the triangle is  504.0\n"
     ]
    }
   ],
   "source": [
    "# Question 3. Write a Python program to find the area of a triangle?\n",
    "\n",
    "# Solution: Here are some types of method to calculate area of triangle -\n",
    "\n",
    "# CODE: Method_1:\n",
    "\n",
    "from math import sqrt\n",
    "\n",
    "def area_triangle(a, b, c):\n",
    "    s = (a+b+c)/2\n",
    "    return sqrt(s*(s-a)*(s-b)*(s-c))\n",
    "\n",
    "a = float(input(\"Enter a: \"))\n",
    "b = float(input(\"Enter b: \"))\n",
    "c = float(input(\"Enter c: \"))\n",
    "\n",
    "print(\"The area of the triangle is \", area_triangle(a, b, c))\n",
    "\n",
    "print(\" \")\n",
    "\n",
    "\n",
    "# CODE: Method_2:\n",
    "\n",
    "def area_equilateral(a):\n",
    "    return (sqrt(3)/4)*a**2\n",
    "\n",
    "a = float(input(\"Enter a: \"))\n",
    "print(\"The area of the triangle is \", area_equilateral(a))\n",
    "\n",
    "print(\" \")\n",
    "\n",
    "\n",
    "# CODE: Method_3:\n",
    "\n",
    "def area_right_angled(b, h):\n",
    "    return (1/2)*b*h\n",
    "\n",
    "b = float(input(\"Enter b: \"))\n",
    "h = float(input(\"Enter h: \"))\n",
    "print(\"The area of the triangle is \", area_right_angled(b, h))\n"
   ]
  },
  {
   "cell_type": "code",
   "execution_count": 17,
   "id": "c4bb5ea5",
   "metadata": {},
   "outputs": [
    {
     "name": "stdout",
     "output_type": "stream",
     "text": [
      "enter value of x = 12.8\n",
      "enter value of y = 45\n",
      "After swapping x = 45.0 and y = 12.8\n"
     ]
    }
   ],
   "source": [
    "# Question 4. Write a Python program to swap two variables?\n",
    "\n",
    "# Solution: Here is the solution code for the asked question-\n",
    "\n",
    "# CODE:\n",
    "\n",
    "x = float(input(\"enter value of x = \"))\n",
    "y = float(input(\"enter value of y = \"))\n",
    "\n",
    "temp = x\n",
    "x = y\n",
    "y = temp\n",
    "\n",
    "print(\"After swapping x =\", x, \"and y =\", y)\n"
   ]
  },
  {
   "cell_type": "code",
   "execution_count": 22,
   "id": "f3666a49",
   "metadata": {},
   "outputs": [
    {
     "name": "stdout",
     "output_type": "stream",
     "text": [
      "60\n"
     ]
    }
   ],
   "source": [
    "# Question 5. Write a Python program to generate a random number?\n",
    "\n",
    "# Solution: Here is the solution code for the asked question-\n",
    "\n",
    "# CODE:\n",
    "\n",
    "import random\n",
    "\n",
    "print(random.randint(1, 93))\n"
   ]
  }
 ],
 "metadata": {
  "kernelspec": {
   "display_name": "Python 3 (ipykernel)",
   "language": "python",
   "name": "python3"
  },
  "language_info": {
   "codemirror_mode": {
    "name": "ipython",
    "version": 3
   },
   "file_extension": ".py",
   "mimetype": "text/x-python",
   "name": "python",
   "nbconvert_exporter": "python",
   "pygments_lexer": "ipython3",
   "version": "3.9.13"
  }
 },
 "nbformat": 4,
 "nbformat_minor": 5
}
