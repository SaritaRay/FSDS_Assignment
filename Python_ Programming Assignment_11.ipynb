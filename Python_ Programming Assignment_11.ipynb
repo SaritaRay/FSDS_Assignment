{
 "cells": [
  {
   "cell_type": "code",
   "execution_count": 20,
   "id": "4a1fa93c",
   "metadata": {},
   "outputs": [
    {
     "data": {
      "text/plain": [
       "['Hello', 'World!', 'Here', 'iNeuron.']"
      ]
     },
     "execution_count": 20,
     "metadata": {},
     "output_type": "execute_result"
    }
   ],
   "source": [
    "# Question 1. Write a Python program to find words which are greater than given length k?\n",
    "\n",
    "# Solution: Here is the solution code for the asked question-\n",
    "\n",
    "# CODE:\n",
    "\n",
    "def find_words_greater_than_k(string, k):\n",
    "    # Splitting the string into a list of words\n",
    "    words = string.split()\n",
    "    \n",
    "    # Finding words with length greater than k\n",
    "    result = []\n",
    "    for word in words:\n",
    "        if len(word) > k:\n",
    "            result.append(word)\n",
    "    \n",
    "    return result\n",
    "\n",
    "find_words_greater_than_k(\"Hello World! Here is iNeuron.\", 3)\n"
   ]
  },
  {
   "cell_type": "code",
   "execution_count": 42,
   "id": "b8ee8e9b",
   "metadata": {},
   "outputs": [
    {
     "data": {
      "text/plain": [
       "'iNeurn'"
      ]
     },
     "execution_count": 42,
     "metadata": {},
     "output_type": "execute_result"
    }
   ],
   "source": [
    "# Question 2. Write a Python program for removing i-th character from a string?\n",
    "\n",
    "# Solution: Here is the solution code for the asked question-\n",
    "\n",
    "# CODE:\n",
    "\n",
    "def remove_character(string, i):\n",
    "    # Removing the i-th character using replace() method\n",
    "    new_string = string.replace(string[i], \"\", 1)\n",
    "    \n",
    "    return new_string\n",
    "\n",
    "remove_character(\"iNeuron\", 5)\n"
   ]
  },
  {
   "cell_type": "code",
   "execution_count": 8,
   "id": "437b5d84",
   "metadata": {},
   "outputs": [
    {
     "data": {
      "text/plain": [
       "'Hello-World!'"
      ]
     },
     "execution_count": 8,
     "metadata": {},
     "output_type": "execute_result"
    }
   ],
   "source": [
    "# Question 3. Write a Python program to split and join a string?\n",
    "\n",
    "# Solution: Here is the solution code for the asked question-\n",
    "\n",
    "# CODE:\n",
    "\n",
    "def split_and_join(string):\n",
    "    # Splitting the string based on space delimiter\n",
    "    list_of_words = string.split()\n",
    "    \n",
    "    # Joining the words with '-' separator\n",
    "    new_string = '-'.join(list_of_words)\n",
    "    \n",
    "    return new_string\n",
    "\n",
    "split_and_join(\"Hello World!\")\n"
   ]
  },
  {
   "cell_type": "code",
   "execution_count": 40,
   "id": "6ab91c15",
   "metadata": {},
   "outputs": [
    {
     "name": "stdout",
     "output_type": "stream",
     "text": [
      "String =  101010101\n",
      "Is the given string is binary? =  True\n",
      " \n",
      "String =  iNeuron\n",
      "Is the given string is binary? =  False\n"
     ]
    }
   ],
   "source": [
    "# Question 4. Write a Python to check if a given string is binary string or not?\n",
    "\n",
    "# Solution: Here is the solution code for the asked question-\n",
    "\n",
    "# CODE:\n",
    "\n",
    "def is_binary_string(string):\n",
    "    # Converting the string to a set\n",
    "    unique_chars = set(string)\n",
    "    \n",
    "    # Checking if the set contains only '0' and '1'\n",
    "    if unique_chars == {'0', '1'}:\n",
    "        return True\n",
    "    else:\n",
    "        return False\n",
    "\n",
    "# example usage- case I:\n",
    "string = \"101010101\"\n",
    "print(\"String = \", string)\n",
    "print(\"Is the given string is binary? = \", is_binary_string(string))\n",
    "\n",
    "print(\" \")\n",
    "\n",
    "# example usage- case II:\n",
    "string = \"iNeuron\"\n",
    "print(\"String = \", string)\n",
    "print(\"Is the given string is binary? = \", is_binary_string(string))\n"
   ]
  },
  {
   "cell_type": "code",
   "execution_count": 15,
   "id": "d7ad9275",
   "metadata": {},
   "outputs": [
    {
     "data": {
      "text/plain": [
       "{'Everyone!', 'World!'}"
      ]
     },
     "execution_count": 15,
     "metadata": {},
     "output_type": "execute_result"
    }
   ],
   "source": [
    "# Question 5. Write a Python program to find uncommon words from two Strings?\n",
    "\n",
    "# Solution: Here is the solution code for the asked question-\n",
    "\n",
    "# CODE:\n",
    "\n",
    "def find_uncommon_words(string1, string2):\n",
    "    # Splitting the strings into a list of words\n",
    "    string1_words = set(string1.split())\n",
    "    string2_words = set(string2.split())\n",
    "    \n",
    "    # Finding the uncommon words between the two sets\n",
    "    uncommon_words = string1_words.symmetric_difference(string2_words)\n",
    "    \n",
    "    return uncommon_words\n",
    "\n",
    "find_uncommon_words(\"Hello World!\", \"Hello Everyone!\")\n"
   ]
  },
  {
   "cell_type": "code",
   "execution_count": 36,
   "id": "0b566454",
   "metadata": {},
   "outputs": [
    {
     "data": {
      "text/plain": [
       "['l', 'o']"
      ]
     },
     "execution_count": 36,
     "metadata": {},
     "output_type": "execute_result"
    }
   ],
   "source": [
    "# Question 6. Write a Python to find all duplicate characters in string?\n",
    "\n",
    "# Solution: Here is the solution code for the asked question-\n",
    "\n",
    "# CODE:\n",
    "\n",
    "def find_duplicate_characters(string):\n",
    "    # Creating an empty list to store duplicate characters\n",
    "    duplicates = []\n",
    "    \n",
    "    # Iterating over each character in the string\n",
    "    for char in string:\n",
    "        # Checking if the character appears more than once in the string\n",
    "        if string.count(char) > 1:\n",
    "            # Checking if the character is not already in the list of duplicates\n",
    "            if char not in duplicates:\n",
    "                duplicates.append(char)\n",
    "    \n",
    "    return duplicates\n",
    "\n",
    "find_duplicate_characters(\"Hello World!\")\n"
   ]
  },
  {
   "cell_type": "code",
   "execution_count": 31,
   "id": "94f3c888",
   "metadata": {},
   "outputs": [
    {
     "name": "stdout",
     "output_type": "stream",
     "text": [
      "String =  Hello World!\n",
      "Is given string contains any special character? =  True\n",
      " \n",
      "String =  Hello World\n",
      "Is given string contains any special character? =  False\n"
     ]
    }
   ],
   "source": [
    "# Question 7. Write a Python Program to check if a string contains any special character?\n",
    "\n",
    "# Solution: Here is the solution code for the asked question-\n",
    "\n",
    "# CODE:\n",
    "\n",
    "import re\n",
    "\n",
    "def check_special_character(string):\n",
    "    # Regular expression to match special characters\n",
    "    regex = '[!@#$%^&*()_+{}\":;\\']'\n",
    "    \n",
    "    # Matching the regular expression with the string\n",
    "    match = re.search(regex, string)\n",
    "    \n",
    "    # If match is found, return True else False\n",
    "    if match:\n",
    "        return True\n",
    "    else:\n",
    "        return False\n",
    "    \n",
    "# example usage- case I:\n",
    "string = \"Hello World!\"\n",
    "print(\"String = \", string)\n",
    "print(\"Is given string contains any special character? = \", check_special_character(string))\n",
    "\n",
    "print(\" \")\n",
    "\n",
    "# example usage- case II:\n",
    "string = \"Hello World\"\n",
    "print(\"String = \", string)\n",
    "print(\"Is given string contains any special character? = \", check_special_character(string))\n"
   ]
  }
 ],
 "metadata": {
  "kernelspec": {
   "display_name": "Python 3 (ipykernel)",
   "language": "python",
   "name": "python3"
  },
  "language_info": {
   "codemirror_mode": {
    "name": "ipython",
    "version": 3
   },
   "file_extension": ".py",
   "mimetype": "text/x-python",
   "name": "python",
   "nbconvert_exporter": "python",
   "pygments_lexer": "ipython3",
   "version": "3.9.13"
  }
 },
 "nbformat": 4,
 "nbformat_minor": 5
}
